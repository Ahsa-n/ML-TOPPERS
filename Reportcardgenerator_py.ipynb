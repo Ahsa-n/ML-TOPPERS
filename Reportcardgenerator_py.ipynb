{
  "nbformat": 4,
  "nbformat_minor": 0,
  "metadata": {
    "colab": {
      "provenance": [],
      "authorship_tag": "ABX9TyMqh/sHx9Q3uIvV6mveuYtG",
      "include_colab_link": true
    },
    "kernelspec": {
      "name": "python3",
      "display_name": "Python 3"
    },
    "language_info": {
      "name": "python"
    }
  },
  "cells": [
    {
      "cell_type": "markdown",
      "metadata": {
        "id": "view-in-github",
        "colab_type": "text"
      },
      "source": [
        "<a href=\"https://colab.research.google.com/github/Ahsa-n/ML-TOPPERS/blob/main/Reportcardgenerator_py.ipynb\" target=\"_parent\"><img src=\"https://colab.research.google.com/assets/colab-badge.svg\" alt=\"Open In Colab\"/></a>"
      ]
    },
    {
      "cell_type": "code",
      "execution_count": 16,
      "metadata": {
        "colab": {
          "base_uri": "https://localhost:8080/"
        },
        "id": "cgz1B-6Xg5cd",
        "outputId": "59c6e0fe-07e8-4420-8096-97f76f063e34"
      },
      "outputs": [
        {
          "output_type": "stream",
          "name": "stdout",
          "text": [
            "enter name\n",
            "Ahsan\n",
            "enter age\n",
            "20\n",
            "Ahsan 20\n",
            "enter subject 1\n",
            "math\n",
            "enter marks of subject 1\n",
            "99\n",
            "enter subject 2\n",
            "science\n",
            "enter marks of subject 2\n",
            "77\n",
            "enter subject 3\n",
            "urdu\n",
            "enter marks of subject 3\n",
            "80\n",
            "Add 5 bonus marks to all subjects? (y/n)\n",
            "n\n",
            "Name: Ahsan\n",
            "Age: 20\n",
            "math: 99\n",
            "science: 77\n",
            "urdu: 80\n",
            "Average: 85.33333333333333\n",
            "Grade: A\n",
            "\n"
          ]
        }
      ],
      "source": [
        "\n",
        "print(\"enter name\")\n",
        "name=input()\n",
        "print(\"enter age\")\n",
        "age= input()\n",
        "print(name,age)\n",
        "\n",
        "course = {\n",
        "}\n",
        "\n",
        "print(\"enter subject 1\")\n",
        "sub1 = input()\n",
        "print(\"enter marks of subject 1\")\n",
        "marks1 = input()\n",
        "course[sub1] = marks1\n",
        "print(\"enter subject 2\")\n",
        "sub2 = input()\n",
        "print(\"enter marks of subject 2\")\n",
        "marks2 = input()\n",
        "course[sub2] = marks2\n",
        "print(\"enter subject 3\")\n",
        "sub3 = input()\n",
        "print(\"enter marks of subject 3\")\n",
        "marks3 = input()\n",
        "course[sub3] = marks3\n",
        "\n",
        "bonus = lambda m: m+5\n",
        "print(\"Add 5 bonus marks to all subjects? (y/n)\")\n",
        "if(input() == \"y\"):\n",
        "    for sub in course:\n",
        "        course[sub] = bonus(course[sub])\n",
        "\n",
        "def avg():\n",
        "    total = 0\n",
        "    for sub in course:\n",
        "        total += int(course.get(sub))\n",
        "    av = total/3\n",
        "    return av\n",
        "\n",
        "average = avg()\n",
        "if average >= 80:\n",
        "    grade = \"A\"\n",
        "elif average>=60 and average<80:\n",
        "     grade = \"B\"\n",
        "elif average>=40 and average<60:\n",
        "     grade = \"C\"\n",
        "elif average<40:\n",
        "     grade = \"F\"\n",
        "\n",
        "\n",
        "#print(course)\n",
        "f = open(\"report.txt\",\"w\")\n",
        "f.write(f\"Name: {name}\\nAge: {age}\\n\")\n",
        "for s, y in course.items():\n",
        "  f.write(f\"{s}: {y}\\n\")\n",
        "f.write(f\"Average: {average}\\nGrade: {grade}\\n\")\n",
        "f.close()\n",
        "f = open(\"report.txt\",\"r\")\n",
        "print(f.read())\n",
        "f.close()\n",
        "\n",
        "\n",
        ""
      ]
    }
  ]
}