{
  "nbformat": 4,
  "nbformat_minor": 0,
  "metadata": {
    "colab": {
      "provenance": [],
      "authorship_tag": "ABX9TyN3mTtIEzNtdXa3AoTuyGX3",
      "include_colab_link": true
    },
    "kernelspec": {
      "name": "python3",
      "display_name": "Python 3"
    },
    "language_info": {
      "name": "python"
    }
  },
  "cells": [
    {
      "cell_type": "markdown",
      "metadata": {
        "id": "view-in-github",
        "colab_type": "text"
      },
      "source": [
        "<a href=\"https://colab.research.google.com/github/Ahsa-n/ML-TOPPERS/blob/main/Day2%20Assignment.ipynb\" target=\"_parent\"><img src=\"https://colab.research.google.com/assets/colab-badge.svg\" alt=\"Open In Colab\"/></a>"
      ]
    },
    {
      "cell_type": "code",
      "execution_count": 43,
      "metadata": {
        "colab": {
          "base_uri": "https://localhost:8080/"
        },
        "id": "ROFw0MdfP0Ym",
        "outputId": "c5635f4d-56bc-480a-ccf5-e87d74d95be5"
      },
      "outputs": [
        {
          "output_type": "stream",
          "name": "stdout",
          "text": [
            "enter nameahsan\n",
            "enter age20\n",
            "enter marks for urdu88\n",
            "enter marks for eng99\n",
            "enter marks for math95\n",
            "add 5 bonus to all subjects? (y/n)y\n",
            "A\n",
            "Report Card!\n",
            "name: ahsan\n",
            "age: 20\n",
            "Avg: 97.66666666666667\n",
            "grade: A\n",
            "report generated successfully!\n",
            "\n",
            "Report Card\n",
            "name: ahsan\n",
            "age: 20\n",
            "Avg: 97.66666666666667\n",
            "grade: A\n"
          ]
        }
      ],
      "source": [
        "from os import write\n",
        "class Student:\n",
        "  def __init__(self,name,age,grade= \"-\",course={}):\n",
        "    self.name = name\n",
        "    self.age = age\n",
        "    self.grade = grade\n",
        "    self.course = course\n",
        "    self.upgrading = lambda a: a+5\n",
        "  def add_grade(self,sub,marks):\n",
        "    self.course[sub] = marks\n",
        "  def calculate_average(self):\n",
        "    total =0\n",
        "    count = 0\n",
        "    for mark in self.course.values():\n",
        "      total+=mark\n",
        "      count+=1\n",
        "    average =total/count\n",
        "    return average\n",
        "  def assign_grade(self,average):\n",
        "    if average >= 80:\n",
        "        self.grade = \"A\"\n",
        "    elif average>=60 and average<80:\n",
        "       self.grade = \"B\"\n",
        "    elif average>=40 and average<60:\n",
        "        self.grade = \"C\"\n",
        "    elif average<40:\n",
        "        self.grade = \"F\"\n",
        "    return self.grade\n",
        "  def apply_bonus(self):\n",
        "    for subj, value in self.course.items():\n",
        "      self.course[subj] = min(self.upgrading(value),100)\n",
        "  def generate_report(self):\n",
        "    print(f\"Report Card!\\nname: {self.name}\\nage: {self.age}\\nAvg: {self.calculate_average()}\\ngrade: {self.grade}\")\n",
        "    print(\"report generated successfully!\\n\")\n",
        "  def savetofile(self,filename):\n",
        "    f = open(filename,\"w\")\n",
        "    f.write(f\"Report Card\\nname: {self.name}\\nage: {self.age}\\nAvg: {self.calculate_average()}\\ngrade: {self.grade}\")\n",
        "  @staticmethod\n",
        "  def load_from_file(filename):\n",
        "    f = open(filename,\"r\")\n",
        "    print(f.read())\n",
        "\n",
        "\n",
        "nam = input(\"enter name \")\n",
        "ag = input(\"enter age \")\n",
        "sub = [\"urdu\",\"eng\",\"math\"]\n",
        "s = Student(nam,ag)\n",
        "for i in sub:\n",
        "  m= int(input(f\"enter marks for {i} \"))\n",
        "  s.add_grade(i,m)\n",
        "if input(\"add 5 bonus to all subjects? (y/n) \") == \"y\":\n",
        "  s.apply_bonus()\n",
        "\n",
        "s.assign_grade(s.calculate_average())\n",
        "\n",
        "\n",
        "s.generate_report()\n",
        "s.savetofile(s.name + \"_report\")\n",
        "s.load_from_file(s.name + \"_report\")\n"
      ]
    }
  ]
}
